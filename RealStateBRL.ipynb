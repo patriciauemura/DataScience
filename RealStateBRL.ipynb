{
  "nbformat": 4,
  "nbformat_minor": 0,
  "metadata": {
    "colab": {
      "provenance": [],
      "authorship_tag": "ABX9TyMN67Bh9MPimmncrQaFXiEE",
      "include_colab_link": true
    },
    "kernelspec": {
      "name": "python3",
      "display_name": "Python 3"
    },
    "language_info": {
      "name": "python"
    }
  },
  "cells": [
    {
      "cell_type": "markdown",
      "metadata": {
        "id": "view-in-github",
        "colab_type": "text"
      },
      "source": [
        "<a href=\"https://colab.research.google.com/github/patriciauemura/DataScience/blob/main/RealStateBRL.ipynb\" target=\"_parent\"><img src=\"https://colab.research.google.com/assets/colab-badge.svg\" alt=\"Open In Colab\"/></a>"
      ]
    },
    {
      "cell_type": "markdown",
      "source": [
        "# Problema\n",
        "O mercado imobiliário é altamente dinâmico e complexo, com preços de imóveis variando significativamente com base em diversos fatores como localização, tamanho, número de quartos, entre outros. A previsão precisa dos preços dos imóveis é crucial para compradores, vendedores e investidores. No entanto, métodos tradicionais de avaliação muitas vezes falham em capturar todas as nuances do mercado.\n",
        "# Solução\n",
        "Utilizar uma rede neural profunda (Deep Learning) para prever os preços dos imóveis com base em um conjunto de dados abrangente que inclui características dos imóveis e dados históricos de preços. A rede neural será treinada para identificar padrões complexos e relações não lineares entre as variáveis.\n",
        "#Metodologia\n"
      ],
      "metadata": {
        "id": "_9b09vijtKew"
      }
    },
    {
      "cell_type": "code",
      "source": [
        "pip install pandas scikit-learn tensorflow"
      ],
      "metadata": {
        "colab": {
          "base_uri": "https://localhost:8080/"
        },
        "id": "9621I0bIv1If",
        "outputId": "1f6eef1d-4b53-4e6a-f829-e075fe407339"
      },
      "execution_count": null,
      "outputs": [
        {
          "output_type": "stream",
          "name": "stdout",
          "text": [
            "Requirement already satisfied: pandas in /usr/local/lib/python3.10/dist-packages (2.2.2)\n",
            "Requirement already satisfied: scikit-learn in /usr/local/lib/python3.10/dist-packages (1.5.2)\n",
            "Requirement already satisfied: tensorflow in /usr/local/lib/python3.10/dist-packages (2.17.1)\n",
            "Requirement already satisfied: numpy>=1.22.4 in /usr/local/lib/python3.10/dist-packages (from pandas) (1.26.4)\n",
            "Requirement already satisfied: python-dateutil>=2.8.2 in /usr/local/lib/python3.10/dist-packages (from pandas) (2.8.2)\n",
            "Requirement already satisfied: pytz>=2020.1 in /usr/local/lib/python3.10/dist-packages (from pandas) (2024.2)\n",
            "Requirement already satisfied: tzdata>=2022.7 in /usr/local/lib/python3.10/dist-packages (from pandas) (2024.2)\n",
            "Requirement already satisfied: scipy>=1.6.0 in /usr/local/lib/python3.10/dist-packages (from scikit-learn) (1.13.1)\n",
            "Requirement already satisfied: joblib>=1.2.0 in /usr/local/lib/python3.10/dist-packages (from scikit-learn) (1.4.2)\n",
            "Requirement already satisfied: threadpoolctl>=3.1.0 in /usr/local/lib/python3.10/dist-packages (from scikit-learn) (3.5.0)\n",
            "Requirement already satisfied: absl-py>=1.0.0 in /usr/local/lib/python3.10/dist-packages (from tensorflow) (1.4.0)\n",
            "Requirement already satisfied: astunparse>=1.6.0 in /usr/local/lib/python3.10/dist-packages (from tensorflow) (1.6.3)\n",
            "Requirement already satisfied: flatbuffers>=24.3.25 in /usr/local/lib/python3.10/dist-packages (from tensorflow) (24.3.25)\n",
            "Requirement already satisfied: gast!=0.5.0,!=0.5.1,!=0.5.2,>=0.2.1 in /usr/local/lib/python3.10/dist-packages (from tensorflow) (0.6.0)\n",
            "Requirement already satisfied: google-pasta>=0.1.1 in /usr/local/lib/python3.10/dist-packages (from tensorflow) (0.2.0)\n",
            "Requirement already satisfied: h5py>=3.10.0 in /usr/local/lib/python3.10/dist-packages (from tensorflow) (3.12.1)\n",
            "Requirement already satisfied: libclang>=13.0.0 in /usr/local/lib/python3.10/dist-packages (from tensorflow) (18.1.1)\n",
            "Requirement already satisfied: ml-dtypes<0.5.0,>=0.3.1 in /usr/local/lib/python3.10/dist-packages (from tensorflow) (0.4.1)\n",
            "Requirement already satisfied: opt-einsum>=2.3.2 in /usr/local/lib/python3.10/dist-packages (from tensorflow) (3.4.0)\n",
            "Requirement already satisfied: packaging in /usr/local/lib/python3.10/dist-packages (from tensorflow) (24.2)\n",
            "Requirement already satisfied: protobuf!=4.21.0,!=4.21.1,!=4.21.2,!=4.21.3,!=4.21.4,!=4.21.5,<5.0.0dev,>=3.20.3 in /usr/local/lib/python3.10/dist-packages (from tensorflow) (4.25.5)\n",
            "Requirement already satisfied: requests<3,>=2.21.0 in /usr/local/lib/python3.10/dist-packages (from tensorflow) (2.32.3)\n",
            "Requirement already satisfied: setuptools in /usr/local/lib/python3.10/dist-packages (from tensorflow) (75.1.0)\n",
            "Requirement already satisfied: six>=1.12.0 in /usr/local/lib/python3.10/dist-packages (from tensorflow) (1.16.0)\n",
            "Requirement already satisfied: termcolor>=1.1.0 in /usr/local/lib/python3.10/dist-packages (from tensorflow) (2.5.0)\n",
            "Requirement already satisfied: typing-extensions>=3.6.6 in /usr/local/lib/python3.10/dist-packages (from tensorflow) (4.12.2)\n",
            "Requirement already satisfied: wrapt>=1.11.0 in /usr/local/lib/python3.10/dist-packages (from tensorflow) (1.17.0)\n",
            "Requirement already satisfied: grpcio<2.0,>=1.24.3 in /usr/local/lib/python3.10/dist-packages (from tensorflow) (1.68.1)\n",
            "Requirement already satisfied: tensorboard<2.18,>=2.17 in /usr/local/lib/python3.10/dist-packages (from tensorflow) (2.17.1)\n",
            "Requirement already satisfied: keras>=3.2.0 in /usr/local/lib/python3.10/dist-packages (from tensorflow) (3.5.0)\n",
            "Requirement already satisfied: tensorflow-io-gcs-filesystem>=0.23.1 in /usr/local/lib/python3.10/dist-packages (from tensorflow) (0.37.1)\n",
            "Requirement already satisfied: wheel<1.0,>=0.23.0 in /usr/local/lib/python3.10/dist-packages (from astunparse>=1.6.0->tensorflow) (0.45.1)\n",
            "Requirement already satisfied: rich in /usr/local/lib/python3.10/dist-packages (from keras>=3.2.0->tensorflow) (13.9.4)\n",
            "Requirement already satisfied: namex in /usr/local/lib/python3.10/dist-packages (from keras>=3.2.0->tensorflow) (0.0.8)\n",
            "Requirement already satisfied: optree in /usr/local/lib/python3.10/dist-packages (from keras>=3.2.0->tensorflow) (0.13.1)\n",
            "Requirement already satisfied: charset-normalizer<4,>=2 in /usr/local/lib/python3.10/dist-packages (from requests<3,>=2.21.0->tensorflow) (3.4.0)\n",
            "Requirement already satisfied: idna<4,>=2.5 in /usr/local/lib/python3.10/dist-packages (from requests<3,>=2.21.0->tensorflow) (3.10)\n",
            "Requirement already satisfied: urllib3<3,>=1.21.1 in /usr/local/lib/python3.10/dist-packages (from requests<3,>=2.21.0->tensorflow) (2.2.3)\n",
            "Requirement already satisfied: certifi>=2017.4.17 in /usr/local/lib/python3.10/dist-packages (from requests<3,>=2.21.0->tensorflow) (2024.8.30)\n",
            "Requirement already satisfied: markdown>=2.6.8 in /usr/local/lib/python3.10/dist-packages (from tensorboard<2.18,>=2.17->tensorflow) (3.7)\n",
            "Requirement already satisfied: tensorboard-data-server<0.8.0,>=0.7.0 in /usr/local/lib/python3.10/dist-packages (from tensorboard<2.18,>=2.17->tensorflow) (0.7.2)\n",
            "Requirement already satisfied: werkzeug>=1.0.1 in /usr/local/lib/python3.10/dist-packages (from tensorboard<2.18,>=2.17->tensorflow) (3.1.3)\n",
            "Requirement already satisfied: MarkupSafe>=2.1.1 in /usr/local/lib/python3.10/dist-packages (from werkzeug>=1.0.1->tensorboard<2.18,>=2.17->tensorflow) (3.0.2)\n",
            "Requirement already satisfied: markdown-it-py>=2.2.0 in /usr/local/lib/python3.10/dist-packages (from rich->keras>=3.2.0->tensorflow) (3.0.0)\n",
            "Requirement already satisfied: pygments<3.0.0,>=2.13.0 in /usr/local/lib/python3.10/dist-packages (from rich->keras>=3.2.0->tensorflow) (2.18.0)\n",
            "Requirement already satisfied: mdurl~=0.1 in /usr/local/lib/python3.10/dist-packages (from markdown-it-py>=2.2.0->rich->keras>=3.2.0->tensorflow) (0.1.2)\n"
          ]
        }
      ]
    },
    {
      "cell_type": "markdown",
      "source": [
        "**Coleta de Dados:** Reunir um conjunto de dados abrangente contendo informações sobre imóveis, como localização, tamanho, número de quartos, idade do imóvel, proximidade a serviços e dados históricos de preços."
      ],
      "metadata": {
        "id": "PZAOI9KLHtQH"
      }
    },
    {
      "cell_type": "code",
      "execution_count": 9,
      "metadata": {
        "colab": {
          "base_uri": "https://localhost:8080/"
        },
        "id": "TKlkQbp7mQvf",
        "outputId": "eb7018e4-6076-41ee-eaba-0aaa70abc348"
      },
      "outputs": [
        {
          "output_type": "stream",
          "name": "stdout",
          "text": [
            "   Unnamed: 0 property_type       state     region       lat        lon  \\\n",
            "0           1     apartment  Pernambuco  Northeast -8.134204 -34.906326   \n",
            "1           2     apartment  Pernambuco  Northeast -8.126664 -34.903924   \n",
            "2           3     apartment  Pernambuco  Northeast -8.125550 -34.907601   \n",
            "3           4     apartment  Pernambuco  Northeast -8.120249 -34.895920   \n",
            "4           5     apartment  Pernambuco  Northeast -8.142666 -34.906906   \n",
            "\n",
            "   area_m2  price_brl  \n",
            "0     72.0  414222.98  \n",
            "1    136.0  848408.53  \n",
            "2     75.0  299438.28  \n",
            "3    187.0  848408.53  \n",
            "4     80.0  464129.36  \n",
            "Unnamed: 0          0\n",
            "property_type       0\n",
            "state               0\n",
            "region              0\n",
            "lat                 0\n",
            "lon                 0\n",
            "area_m2          1540\n",
            "price_brl           0\n",
            "dtype: int64\n"
          ]
        }
      ],
      "source": [
        "import pandas as pd\n",
        "from sklearn.model_selection import train_test_split\n",
        "from sklearn.preprocessing import StandardScaler, OneHotEncoder\n",
        "from sklearn.compose import ColumnTransformer\n",
        "from sklearn.impute import SimpleImputer\n",
        "\n",
        "# Carregar o conjunto de dados\n",
        "data = pd.read_csv('/content/Brasile-real-estate-dataset.csv', encoding='latin1')\n",
        "\n",
        "# Visualizar as primeiras linhas do conjunto de dados\n",
        "print(data.head())\n",
        "\n",
        "# Verificar se há valores ausentes no conjunto de dados\n",
        "print(data.isnull().sum())"
      ]
    },
    {
      "cell_type": "markdown",
      "source": [
        "**Pré-processamento de Dados:** Limpar e normalizar os dados para garantir que estejam prontos para serem usados no modelo. Isso inclui lidar com valores ausentes, normalizar variáveis numéricas e codificar variáveis categóricas."
      ],
      "metadata": {
        "id": "426bYxsYtpPh"
      }
    },
    {
      "cell_type": "code",
      "source": [
        "# Preencher valores ausentes com a média (ou outra estratégia adequada)\n",
        "imputer = SimpleImputer(strategy='mean')\n",
        "data[numerical_features] = imputer.fit_transform(data[numerical_features])\n",
        "\n",
        "# Separar as variáveis independentes (X) e a variável dependente (y)\n",
        "X = data.drop('price_brl', axis=1)\n",
        "y = data['price_brl']\n",
        "\n",
        "# Dividir o conjunto de dados em conjuntos de treinamento e teste\n",
        "X_train, X_test, y_train, y_test = train_test_split(X, y, test_size=0.2, random_state=42)\n",
        "\n",
        "# Identificar colunas numéricas e categóricas\n",
        "numerical_features = X_train.select_dtypes(include=['int64', 'float64']).columns\n",
        "categorical_features = X_train.select_dtypes(include=['object']).columns\n",
        "\n",
        "# Criar um transformador para pré-processar colunas numéricas e categóricas\n",
        "preprocessor = ColumnTransformer(\n",
        "    transformers=[\n",
        "        ('num', StandardScaler(), numerical_features),\n",
        "        ('cat', OneHotEncoder(sparse_output=False, handle_unknown='ignore'), categorical_features)\n",
        "    ])\n",
        "\n",
        "# Ajustar e transformar os dados de treinamento\n",
        "X_train = preprocessor.fit_transform(X_train)\n",
        "\n",
        "# Transformar os dados de teste\n",
        "X_test = preprocessor.transform(X_test)"
      ],
      "metadata": {
        "id": "JDiEdk03tqBm"
      },
      "execution_count": 10,
      "outputs": []
    },
    {
      "cell_type": "markdown",
      "source": [
        "**Divisão dos Dados:** Dividir o conjunto de dados em conjuntos de treinamento, validação e teste usando o método hold-out para garantir que o modelo seja avaliado de forma justa.\n",
        "\n",
        "**Construção do Modelo:** Construir uma rede neural profunda com múltiplas camadas ocultas. Utilizar a função de ativação ReLU nas camadas ocultas e a função de ativação linear na camada de saída."
      ],
      "metadata": {
        "id": "_d4GuULxt8md"
      }
    },
    {
      "source": [
        "from tensorflow.keras.models import Sequential\n",
        "from tensorflow.keras.layers import Dense, Input\n",
        "\n",
        "# Construir a rede neural profunda\n",
        "model = Sequential()\n",
        "model.add(Input(shape=(X_train.shape[1],)))  # Define input shape using Input layer\n",
        "model.add(Dense(64, activation='relu'))\n",
        "model.add(Dense(32, activation='relu'))\n",
        "model.add(Dense(1, activation='linear'))\n",
        "\n",
        "# Compilar o modelo\n",
        "model.compile(optimizer='adam', loss='mean_squared_error')"
      ],
      "cell_type": "code",
      "metadata": {
        "id": "g1MxNdydnTzv"
      },
      "execution_count": 11,
      "outputs": []
    },
    {
      "cell_type": "markdown",
      "source": [
        "**Treinamento do Modelo:** Treinar o modelo usando o algoritmo de backpropagation e o otimizador Adam. Ajustar os hiperparâmetros, como a taxa de aprendizado, para melhorar o desempenho do modelo."
      ],
      "metadata": {
        "id": "Lwp3Q6euuIaI"
      }
    },
    {
      "cell_type": "code",
      "source": [
        "# Treinar o modelo\n",
        "history = model.fit(X_train, y_train, epochs=100, batch_size=32, validation_split=0.2)"
      ],
      "metadata": {
        "colab": {
          "base_uri": "https://localhost:8080/"
        },
        "id": "d2Qkxl81nj-b",
        "outputId": "c0e268d4-f17f-4a76-a9ab-ae7ba9d9b1cc"
      },
      "execution_count": 12,
      "outputs": [
        {
          "output_type": "stream",
          "name": "stdout",
          "text": [
            "Epoch 1/100\n",
            "\u001b[1m257/257\u001b[0m \u001b[32m━━━━━━━━━━━━━━━━━━━━\u001b[0m\u001b[37m\u001b[0m \u001b[1m2s\u001b[0m 4ms/step - loss: 562765037568.0000 - val_loss: 555442896896.0000\n",
            "Epoch 2/100\n",
            "\u001b[1m257/257\u001b[0m \u001b[32m━━━━━━━━━━━━━━━━━━━━\u001b[0m\u001b[37m\u001b[0m \u001b[1m1s\u001b[0m 2ms/step - loss: 569974784000.0000 - val_loss: 550546178048.0000\n",
            "Epoch 3/100\n",
            "\u001b[1m257/257\u001b[0m \u001b[32m━━━━━━━━━━━━━━━━━━━━\u001b[0m\u001b[37m\u001b[0m \u001b[1m1s\u001b[0m 2ms/step - loss: 559279570944.0000 - val_loss: 537855197184.0000\n",
            "Epoch 4/100\n",
            "\u001b[1m257/257\u001b[0m \u001b[32m━━━━━━━━━━━━━━━━━━━━\u001b[0m\u001b[37m\u001b[0m \u001b[1m1s\u001b[0m 2ms/step - loss: 544758431744.0000 - val_loss: 515191668736.0000\n",
            "Epoch 5/100\n",
            "\u001b[1m257/257\u001b[0m \u001b[32m━━━━━━━━━━━━━━━━━━━━\u001b[0m\u001b[37m\u001b[0m \u001b[1m0s\u001b[0m 2ms/step - loss: 505812451328.0000 - val_loss: 481894563840.0000\n",
            "Epoch 6/100\n",
            "\u001b[1m257/257\u001b[0m \u001b[32m━━━━━━━━━━━━━━━━━━━━\u001b[0m\u001b[37m\u001b[0m \u001b[1m1s\u001b[0m 2ms/step - loss: 477567352832.0000 - val_loss: 438808641536.0000\n",
            "Epoch 7/100\n",
            "\u001b[1m257/257\u001b[0m \u001b[32m━━━━━━━━━━━━━━━━━━━━\u001b[0m\u001b[37m\u001b[0m \u001b[1m1s\u001b[0m 2ms/step - loss: 433487904768.0000 - val_loss: 388274552832.0000\n",
            "Epoch 8/100\n",
            "\u001b[1m257/257\u001b[0m \u001b[32m━━━━━━━━━━━━━━━━━━━━\u001b[0m\u001b[37m\u001b[0m \u001b[1m1s\u001b[0m 2ms/step - loss: 380422455296.0000 - val_loss: 333586857984.0000\n",
            "Epoch 9/100\n",
            "\u001b[1m257/257\u001b[0m \u001b[32m━━━━━━━━━━━━━━━━━━━━\u001b[0m\u001b[37m\u001b[0m \u001b[1m1s\u001b[0m 3ms/step - loss: 324616880128.0000 - val_loss: 278298656768.0000\n",
            "Epoch 10/100\n",
            "\u001b[1m257/257\u001b[0m \u001b[32m━━━━━━━━━━━━━━━━━━━━\u001b[0m\u001b[37m\u001b[0m \u001b[1m1s\u001b[0m 3ms/step - loss: 273267228672.0000 - val_loss: 226771320832.0000\n",
            "Epoch 11/100\n",
            "\u001b[1m257/257\u001b[0m \u001b[32m━━━━━━━━━━━━━━━━━━━━\u001b[0m\u001b[37m\u001b[0m \u001b[1m1s\u001b[0m 2ms/step - loss: 216984059904.0000 - val_loss: 182067314688.0000\n",
            "Epoch 12/100\n",
            "\u001b[1m257/257\u001b[0m \u001b[32m━━━━━━━━━━━━━━━━━━━━\u001b[0m\u001b[37m\u001b[0m \u001b[1m1s\u001b[0m 2ms/step - loss: 174088536064.0000 - val_loss: 146575392768.0000\n",
            "Epoch 13/100\n",
            "\u001b[1m257/257\u001b[0m \u001b[32m━━━━━━━━━━━━━━━━━━━━\u001b[0m\u001b[37m\u001b[0m \u001b[1m1s\u001b[0m 2ms/step - loss: 143753936896.0000 - val_loss: 120959942656.0000\n",
            "Epoch 14/100\n",
            "\u001b[1m257/257\u001b[0m \u001b[32m━━━━━━━━━━━━━━━━━━━━\u001b[0m\u001b[37m\u001b[0m \u001b[1m0s\u001b[0m 2ms/step - loss: 116708630528.0000 - val_loss: 104564490240.0000\n",
            "Epoch 15/100\n",
            "\u001b[1m257/257\u001b[0m \u001b[32m━━━━━━━━━━━━━━━━━━━━\u001b[0m\u001b[37m\u001b[0m \u001b[1m1s\u001b[0m 2ms/step - loss: 99214786560.0000 - val_loss: 94786363392.0000\n",
            "Epoch 16/100\n",
            "\u001b[1m257/257\u001b[0m \u001b[32m━━━━━━━━━━━━━━━━━━━━\u001b[0m\u001b[37m\u001b[0m \u001b[1m1s\u001b[0m 2ms/step - loss: 93745725440.0000 - val_loss: 89340231680.0000\n",
            "Epoch 17/100\n",
            "\u001b[1m257/257\u001b[0m \u001b[32m━━━━━━━━━━━━━━━━━━━━\u001b[0m\u001b[37m\u001b[0m \u001b[1m1s\u001b[0m 3ms/step - loss: 89149063168.0000 - val_loss: 86190514176.0000\n",
            "Epoch 18/100\n",
            "\u001b[1m257/257\u001b[0m \u001b[32m━━━━━━━━━━━━━━━━━━━━\u001b[0m\u001b[37m\u001b[0m \u001b[1m1s\u001b[0m 4ms/step - loss: 85862359040.0000 - val_loss: 84146487296.0000\n",
            "Epoch 19/100\n",
            "\u001b[1m257/257\u001b[0m \u001b[32m━━━━━━━━━━━━━━━━━━━━\u001b[0m\u001b[37m\u001b[0m \u001b[1m1s\u001b[0m 4ms/step - loss: 83134046208.0000 - val_loss: 82600665088.0000\n",
            "Epoch 20/100\n",
            "\u001b[1m257/257\u001b[0m \u001b[32m━━━━━━━━━━━━━━━━━━━━\u001b[0m\u001b[37m\u001b[0m \u001b[1m1s\u001b[0m 2ms/step - loss: 81208041472.0000 - val_loss: 81334157312.0000\n",
            "Epoch 21/100\n",
            "\u001b[1m257/257\u001b[0m \u001b[32m━━━━━━━━━━━━━━━━━━━━\u001b[0m\u001b[37m\u001b[0m \u001b[1m1s\u001b[0m 2ms/step - loss: 83052421120.0000 - val_loss: 80259751936.0000\n",
            "Epoch 22/100\n",
            "\u001b[1m257/257\u001b[0m \u001b[32m━━━━━━━━━━━━━━━━━━━━\u001b[0m\u001b[37m\u001b[0m \u001b[1m0s\u001b[0m 2ms/step - loss: 80505880576.0000 - val_loss: 79312093184.0000\n",
            "Epoch 23/100\n",
            "\u001b[1m257/257\u001b[0m \u001b[32m━━━━━━━━━━━━━━━━━━━━\u001b[0m\u001b[37m\u001b[0m \u001b[1m1s\u001b[0m 2ms/step - loss: 79577423872.0000 - val_loss: 78443962368.0000\n",
            "Epoch 24/100\n",
            "\u001b[1m257/257\u001b[0m \u001b[32m━━━━━━━━━━━━━━━━━━━━\u001b[0m\u001b[37m\u001b[0m \u001b[1m1s\u001b[0m 2ms/step - loss: 80262283264.0000 - val_loss: 77670039552.0000\n",
            "Epoch 25/100\n",
            "\u001b[1m257/257\u001b[0m \u001b[32m━━━━━━━━━━━━━━━━━━━━\u001b[0m\u001b[37m\u001b[0m \u001b[1m1s\u001b[0m 2ms/step - loss: 75520557056.0000 - val_loss: 76975284224.0000\n",
            "Epoch 26/100\n",
            "\u001b[1m257/257\u001b[0m \u001b[32m━━━━━━━━━━━━━━━━━━━━\u001b[0m\u001b[37m\u001b[0m \u001b[1m1s\u001b[0m 2ms/step - loss: 78897012736.0000 - val_loss: 76331483136.0000\n",
            "Epoch 27/100\n",
            "\u001b[1m257/257\u001b[0m \u001b[32m━━━━━━━━━━━━━━━━━━━━\u001b[0m\u001b[37m\u001b[0m \u001b[1m1s\u001b[0m 2ms/step - loss: 77101883392.0000 - val_loss: 75759534080.0000\n",
            "Epoch 28/100\n",
            "\u001b[1m257/257\u001b[0m \u001b[32m━━━━━━━━━━━━━━━━━━━━\u001b[0m\u001b[37m\u001b[0m \u001b[1m0s\u001b[0m 2ms/step - loss: 76824977408.0000 - val_loss: 75237777408.0000\n",
            "Epoch 29/100\n",
            "\u001b[1m257/257\u001b[0m \u001b[32m━━━━━━━━━━━━━━━━━━━━\u001b[0m\u001b[37m\u001b[0m \u001b[1m0s\u001b[0m 2ms/step - loss: 76366184448.0000 - val_loss: 74768449536.0000\n",
            "Epoch 30/100\n",
            "\u001b[1m257/257\u001b[0m \u001b[32m━━━━━━━━━━━━━━━━━━━━\u001b[0m\u001b[37m\u001b[0m \u001b[1m1s\u001b[0m 2ms/step - loss: 74073735168.0000 - val_loss: 74323329024.0000\n",
            "Epoch 31/100\n",
            "\u001b[1m257/257\u001b[0m \u001b[32m━━━━━━━━━━━━━━━━━━━━\u001b[0m\u001b[37m\u001b[0m \u001b[1m1s\u001b[0m 2ms/step - loss: 76849160192.0000 - val_loss: 73935831040.0000\n",
            "Epoch 32/100\n",
            "\u001b[1m257/257\u001b[0m \u001b[32m━━━━━━━━━━━━━━━━━━━━\u001b[0m\u001b[37m\u001b[0m \u001b[1m1s\u001b[0m 2ms/step - loss: 74067304448.0000 - val_loss: 73561636864.0000\n",
            "Epoch 33/100\n",
            "\u001b[1m257/257\u001b[0m \u001b[32m━━━━━━━━━━━━━━━━━━━━\u001b[0m\u001b[37m\u001b[0m \u001b[1m0s\u001b[0m 2ms/step - loss: 75466539008.0000 - val_loss: 73236578304.0000\n",
            "Epoch 34/100\n",
            "\u001b[1m257/257\u001b[0m \u001b[32m━━━━━━━━━━━━━━━━━━━━\u001b[0m\u001b[37m\u001b[0m \u001b[1m1s\u001b[0m 2ms/step - loss: 74531864576.0000 - val_loss: 72936914944.0000\n",
            "Epoch 35/100\n",
            "\u001b[1m257/257\u001b[0m \u001b[32m━━━━━━━━━━━━━━━━━━━━\u001b[0m\u001b[37m\u001b[0m \u001b[1m1s\u001b[0m 2ms/step - loss: 75269324800.0000 - val_loss: 72655814656.0000\n",
            "Epoch 36/100\n",
            "\u001b[1m257/257\u001b[0m \u001b[32m━━━━━━━━━━━━━━━━━━━━\u001b[0m\u001b[37m\u001b[0m \u001b[1m1s\u001b[0m 2ms/step - loss: 73371541504.0000 - val_loss: 72411512832.0000\n",
            "Epoch 37/100\n",
            "\u001b[1m257/257\u001b[0m \u001b[32m━━━━━━━━━━━━━━━━━━━━\u001b[0m\u001b[37m\u001b[0m \u001b[1m1s\u001b[0m 2ms/step - loss: 72950087680.0000 - val_loss: 72192172032.0000\n",
            "Epoch 38/100\n",
            "\u001b[1m257/257\u001b[0m \u001b[32m━━━━━━━━━━━━━━━━━━━━\u001b[0m\u001b[37m\u001b[0m \u001b[1m1s\u001b[0m 3ms/step - loss: 74721632256.0000 - val_loss: 71980302336.0000\n",
            "Epoch 39/100\n",
            "\u001b[1m257/257\u001b[0m \u001b[32m━━━━━━━━━━━━━━━━━━━━\u001b[0m\u001b[37m\u001b[0m \u001b[1m1s\u001b[0m 3ms/step - loss: 71564779520.0000 - val_loss: 71799128064.0000\n",
            "Epoch 40/100\n",
            "\u001b[1m257/257\u001b[0m \u001b[32m━━━━━━━━━━━━━━━━━━━━\u001b[0m\u001b[37m\u001b[0m \u001b[1m1s\u001b[0m 3ms/step - loss: 71984463872.0000 - val_loss: 71644078080.0000\n",
            "Epoch 41/100\n",
            "\u001b[1m257/257\u001b[0m \u001b[32m━━━━━━━━━━━━━━━━━━━━\u001b[0m\u001b[37m\u001b[0m \u001b[1m1s\u001b[0m 2ms/step - loss: 71491698688.0000 - val_loss: 71489183744.0000\n",
            "Epoch 42/100\n",
            "\u001b[1m257/257\u001b[0m \u001b[32m━━━━━━━━━━━━━━━━━━━━\u001b[0m\u001b[37m\u001b[0m \u001b[1m1s\u001b[0m 2ms/step - loss: 73639403520.0000 - val_loss: 71359848448.0000\n",
            "Epoch 43/100\n",
            "\u001b[1m257/257\u001b[0m \u001b[32m━━━━━━━━━━━━━━━━━━━━\u001b[0m\u001b[37m\u001b[0m \u001b[1m1s\u001b[0m 2ms/step - loss: 71404871680.0000 - val_loss: 71241187328.0000\n",
            "Epoch 44/100\n",
            "\u001b[1m257/257\u001b[0m \u001b[32m━━━━━━━━━━━━━━━━━━━━\u001b[0m\u001b[37m\u001b[0m \u001b[1m1s\u001b[0m 2ms/step - loss: 70467452928.0000 - val_loss: 71138402304.0000\n",
            "Epoch 45/100\n",
            "\u001b[1m257/257\u001b[0m \u001b[32m━━━━━━━━━━━━━━━━━━━━\u001b[0m\u001b[37m\u001b[0m \u001b[1m1s\u001b[0m 2ms/step - loss: 68880777216.0000 - val_loss: 71051968512.0000\n",
            "Epoch 46/100\n",
            "\u001b[1m257/257\u001b[0m \u001b[32m━━━━━━━━━━━━━━━━━━━━\u001b[0m\u001b[37m\u001b[0m \u001b[1m1s\u001b[0m 2ms/step - loss: 70278922240.0000 - val_loss: 70968647680.0000\n",
            "Epoch 47/100\n",
            "\u001b[1m257/257\u001b[0m \u001b[32m━━━━━━━━━━━━━━━━━━━━\u001b[0m\u001b[37m\u001b[0m \u001b[1m1s\u001b[0m 2ms/step - loss: 72695111680.0000 - val_loss: 70885359616.0000\n",
            "Epoch 48/100\n",
            "\u001b[1m257/257\u001b[0m \u001b[32m━━━━━━━━━━━━━━━━━━━━\u001b[0m\u001b[37m\u001b[0m \u001b[1m0s\u001b[0m 2ms/step - loss: 71833264128.0000 - val_loss: 70814130176.0000\n",
            "Epoch 49/100\n",
            "\u001b[1m257/257\u001b[0m \u001b[32m━━━━━━━━━━━━━━━━━━━━\u001b[0m\u001b[37m\u001b[0m \u001b[1m0s\u001b[0m 2ms/step - loss: 71113875456.0000 - val_loss: 70761332736.0000\n",
            "Epoch 50/100\n",
            "\u001b[1m257/257\u001b[0m \u001b[32m━━━━━━━━━━━━━━━━━━━━\u001b[0m\u001b[37m\u001b[0m \u001b[1m0s\u001b[0m 2ms/step - loss: 71956684800.0000 - val_loss: 70713901056.0000\n",
            "Epoch 51/100\n",
            "\u001b[1m257/257\u001b[0m \u001b[32m━━━━━━━━━━━━━━━━━━━━\u001b[0m\u001b[37m\u001b[0m \u001b[1m1s\u001b[0m 3ms/step - loss: 68347166720.0000 - val_loss: 70678650880.0000\n",
            "Epoch 52/100\n",
            "\u001b[1m257/257\u001b[0m \u001b[32m━━━━━━━━━━━━━━━━━━━━\u001b[0m\u001b[37m\u001b[0m \u001b[1m1s\u001b[0m 2ms/step - loss: 70749978624.0000 - val_loss: 70622420992.0000\n",
            "Epoch 53/100\n",
            "\u001b[1m257/257\u001b[0m \u001b[32m━━━━━━━━━━━━━━━━━━━━\u001b[0m\u001b[37m\u001b[0m \u001b[1m1s\u001b[0m 3ms/step - loss: 73566240768.0000 - val_loss: 70587310080.0000\n",
            "Epoch 54/100\n",
            "\u001b[1m257/257\u001b[0m \u001b[32m━━━━━━━━━━━━━━━━━━━━\u001b[0m\u001b[37m\u001b[0m \u001b[1m0s\u001b[0m 2ms/step - loss: 71870930944.0000 - val_loss: 70569533440.0000\n",
            "Epoch 55/100\n",
            "\u001b[1m257/257\u001b[0m \u001b[32m━━━━━━━━━━━━━━━━━━━━\u001b[0m\u001b[37m\u001b[0m \u001b[1m0s\u001b[0m 2ms/step - loss: 71261306880.0000 - val_loss: 70536994816.0000\n",
            "Epoch 56/100\n",
            "\u001b[1m257/257\u001b[0m \u001b[32m━━━━━━━━━━━━━━━━━━━━\u001b[0m\u001b[37m\u001b[0m \u001b[1m1s\u001b[0m 3ms/step - loss: 73599852544.0000 - val_loss: 70508265472.0000\n",
            "Epoch 57/100\n",
            "\u001b[1m257/257\u001b[0m \u001b[32m━━━━━━━━━━━━━━━━━━━━\u001b[0m\u001b[37m\u001b[0m \u001b[1m1s\u001b[0m 3ms/step - loss: 73776881664.0000 - val_loss: 70497787904.0000\n",
            "Epoch 58/100\n",
            "\u001b[1m257/257\u001b[0m \u001b[32m━━━━━━━━━━━━━━━━━━━━\u001b[0m\u001b[37m\u001b[0m \u001b[1m1s\u001b[0m 3ms/step - loss: 70461792256.0000 - val_loss: 70471655424.0000\n",
            "Epoch 59/100\n",
            "\u001b[1m257/257\u001b[0m \u001b[32m━━━━━━━━━━━━━━━━━━━━\u001b[0m\u001b[37m\u001b[0m \u001b[1m1s\u001b[0m 3ms/step - loss: 70522028032.0000 - val_loss: 70455328768.0000\n",
            "Epoch 60/100\n",
            "\u001b[1m257/257\u001b[0m \u001b[32m━━━━━━━━━━━━━━━━━━━━\u001b[0m\u001b[37m\u001b[0m \u001b[1m1s\u001b[0m 2ms/step - loss: 69909798912.0000 - val_loss: 70435151872.0000\n",
            "Epoch 61/100\n",
            "\u001b[1m257/257\u001b[0m \u001b[32m━━━━━━━━━━━━━━━━━━━━\u001b[0m\u001b[37m\u001b[0m \u001b[1m1s\u001b[0m 2ms/step - loss: 72277614592.0000 - val_loss: 70431866880.0000\n",
            "Epoch 62/100\n",
            "\u001b[1m257/257\u001b[0m \u001b[32m━━━━━━━━━━━━━━━━━━━━\u001b[0m\u001b[37m\u001b[0m \u001b[1m1s\u001b[0m 2ms/step - loss: 70717464576.0000 - val_loss: 70413172736.0000\n",
            "Epoch 63/100\n",
            "\u001b[1m257/257\u001b[0m \u001b[32m━━━━━━━━━━━━━━━━━━━━\u001b[0m\u001b[37m\u001b[0m \u001b[1m1s\u001b[0m 2ms/step - loss: 71779262464.0000 - val_loss: 70407184384.0000\n",
            "Epoch 64/100\n",
            "\u001b[1m257/257\u001b[0m \u001b[32m━━━━━━━━━━━━━━━━━━━━\u001b[0m\u001b[37m\u001b[0m \u001b[1m0s\u001b[0m 2ms/step - loss: 70698762240.0000 - val_loss: 70400974848.0000\n",
            "Epoch 65/100\n",
            "\u001b[1m257/257\u001b[0m \u001b[32m━━━━━━━━━━━━━━━━━━━━\u001b[0m\u001b[37m\u001b[0m \u001b[1m1s\u001b[0m 2ms/step - loss: 70178373632.0000 - val_loss: 70393430016.0000\n",
            "Epoch 66/100\n",
            "\u001b[1m257/257\u001b[0m \u001b[32m━━━━━━━━━━━━━━━━━━━━\u001b[0m\u001b[37m\u001b[0m \u001b[1m0s\u001b[0m 2ms/step - loss: 70675521536.0000 - val_loss: 70378971136.0000\n",
            "Epoch 67/100\n",
            "\u001b[1m257/257\u001b[0m \u001b[32m━━━━━━━━━━━━━━━━━━━━\u001b[0m\u001b[37m\u001b[0m \u001b[1m1s\u001b[0m 2ms/step - loss: 71083982848.0000 - val_loss: 70372646912.0000\n",
            "Epoch 68/100\n",
            "\u001b[1m257/257\u001b[0m \u001b[32m━━━━━━━━━━━━━━━━━━━━\u001b[0m\u001b[37m\u001b[0m \u001b[1m1s\u001b[0m 2ms/step - loss: 71243251712.0000 - val_loss: 70366781440.0000\n",
            "Epoch 69/100\n",
            "\u001b[1m257/257\u001b[0m \u001b[32m━━━━━━━━━━━━━━━━━━━━\u001b[0m\u001b[37m\u001b[0m \u001b[1m1s\u001b[0m 2ms/step - loss: 72017756160.0000 - val_loss: 70366093312.0000\n",
            "Epoch 70/100\n",
            "\u001b[1m257/257\u001b[0m \u001b[32m━━━━━━━━━━━━━━━━━━━━\u001b[0m\u001b[37m\u001b[0m \u001b[1m0s\u001b[0m 2ms/step - loss: 73904316416.0000 - val_loss: 70357327872.0000\n",
            "Epoch 71/100\n",
            "\u001b[1m257/257\u001b[0m \u001b[32m━━━━━━━━━━━━━━━━━━━━\u001b[0m\u001b[37m\u001b[0m \u001b[1m1s\u001b[0m 2ms/step - loss: 71698309120.0000 - val_loss: 70365822976.0000\n",
            "Epoch 72/100\n",
            "\u001b[1m257/257\u001b[0m \u001b[32m━━━━━━━━━━━━━━━━━━━━\u001b[0m\u001b[37m\u001b[0m \u001b[1m1s\u001b[0m 2ms/step - loss: 71020453888.0000 - val_loss: 70358532096.0000\n",
            "Epoch 73/100\n",
            "\u001b[1m257/257\u001b[0m \u001b[32m━━━━━━━━━━━━━━━━━━━━\u001b[0m\u001b[37m\u001b[0m \u001b[1m1s\u001b[0m 2ms/step - loss: 71046406144.0000 - val_loss: 70351618048.0000\n",
            "Epoch 74/100\n",
            "\u001b[1m257/257\u001b[0m \u001b[32m━━━━━━━━━━━━━━━━━━━━\u001b[0m\u001b[37m\u001b[0m \u001b[1m1s\u001b[0m 2ms/step - loss: 71462600704.0000 - val_loss: 70345146368.0000\n",
            "Epoch 75/100\n",
            "\u001b[1m257/257\u001b[0m \u001b[32m━━━━━━━━━━━━━━━━━━━━\u001b[0m\u001b[37m\u001b[0m \u001b[1m1s\u001b[0m 2ms/step - loss: 73768157184.0000 - val_loss: 70348914688.0000\n",
            "Epoch 76/100\n",
            "\u001b[1m257/257\u001b[0m \u001b[32m━━━━━━━━━━━━━━━━━━━━\u001b[0m\u001b[37m\u001b[0m \u001b[1m1s\u001b[0m 3ms/step - loss: 69500641280.0000 - val_loss: 70340583424.0000\n",
            "Epoch 77/100\n",
            "\u001b[1m257/257\u001b[0m \u001b[32m━━━━━━━━━━━━━━━━━━━━\u001b[0m\u001b[37m\u001b[0m \u001b[1m1s\u001b[0m 3ms/step - loss: 72479924224.0000 - val_loss: 70340575232.0000\n",
            "Epoch 78/100\n",
            "\u001b[1m257/257\u001b[0m \u001b[32m━━━━━━━━━━━━━━━━━━━━\u001b[0m\u001b[37m\u001b[0m \u001b[1m1s\u001b[0m 3ms/step - loss: 72311431168.0000 - val_loss: 70334308352.0000\n",
            "Epoch 79/100\n",
            "\u001b[1m257/257\u001b[0m \u001b[32m━━━━━━━━━━━━━━━━━━━━\u001b[0m\u001b[37m\u001b[0m \u001b[1m1s\u001b[0m 2ms/step - loss: 70412853248.0000 - val_loss: 70338355200.0000\n",
            "Epoch 80/100\n",
            "\u001b[1m257/257\u001b[0m \u001b[32m━━━━━━━━━━━━━━━━━━━━\u001b[0m\u001b[37m\u001b[0m \u001b[1m1s\u001b[0m 2ms/step - loss: 69767610368.0000 - val_loss: 70344949760.0000\n",
            "Epoch 81/100\n",
            "\u001b[1m257/257\u001b[0m \u001b[32m━━━━━━━━━━━━━━━━━━━━\u001b[0m\u001b[37m\u001b[0m \u001b[1m1s\u001b[0m 2ms/step - loss: 72616050688.0000 - val_loss: 70335266816.0000\n",
            "Epoch 82/100\n",
            "\u001b[1m257/257\u001b[0m \u001b[32m━━━━━━━━━━━━━━━━━━━━\u001b[0m\u001b[37m\u001b[0m \u001b[1m1s\u001b[0m 2ms/step - loss: 72703033344.0000 - val_loss: 70331080704.0000\n",
            "Epoch 83/100\n",
            "\u001b[1m257/257\u001b[0m \u001b[32m━━━━━━━━━━━━━━━━━━━━\u001b[0m\u001b[37m\u001b[0m \u001b[1m1s\u001b[0m 2ms/step - loss: 71897128960.0000 - val_loss: 70339706880.0000\n",
            "Epoch 84/100\n",
            "\u001b[1m257/257\u001b[0m \u001b[32m━━━━━━━━━━━━━━━━━━━━\u001b[0m\u001b[37m\u001b[0m \u001b[1m1s\u001b[0m 2ms/step - loss: 70958522368.0000 - val_loss: 70332170240.0000\n",
            "Epoch 85/100\n",
            "\u001b[1m257/257\u001b[0m \u001b[32m━━━━━━━━━━━━━━━━━━━━\u001b[0m\u001b[37m\u001b[0m \u001b[1m0s\u001b[0m 2ms/step - loss: 71115923456.0000 - val_loss: 70321520640.0000\n",
            "Epoch 86/100\n",
            "\u001b[1m257/257\u001b[0m \u001b[32m━━━━━━━━━━━━━━━━━━━━\u001b[0m\u001b[37m\u001b[0m \u001b[1m1s\u001b[0m 2ms/step - loss: 71092813824.0000 - val_loss: 70328115200.0000\n",
            "Epoch 87/100\n",
            "\u001b[1m257/257\u001b[0m \u001b[32m━━━━━━━━━━━━━━━━━━━━\u001b[0m\u001b[37m\u001b[0m \u001b[1m1s\u001b[0m 2ms/step - loss: 69895462912.0000 - val_loss: 70332235776.0000\n",
            "Epoch 88/100\n",
            "\u001b[1m257/257\u001b[0m \u001b[32m━━━━━━━━━━━━━━━━━━━━\u001b[0m\u001b[37m\u001b[0m \u001b[1m1s\u001b[0m 2ms/step - loss: 74084548608.0000 - val_loss: 70322823168.0000\n",
            "Epoch 89/100\n",
            "\u001b[1m257/257\u001b[0m \u001b[32m━━━━━━━━━━━━━━━━━━━━\u001b[0m\u001b[37m\u001b[0m \u001b[1m1s\u001b[0m 2ms/step - loss: 70563282944.0000 - val_loss: 70318620672.0000\n",
            "Epoch 90/100\n",
            "\u001b[1m257/257\u001b[0m \u001b[32m━━━━━━━━━━━━━━━━━━━━\u001b[0m\u001b[37m\u001b[0m \u001b[1m0s\u001b[0m 2ms/step - loss: 69998657536.0000 - val_loss: 70317760512.0000\n",
            "Epoch 91/100\n",
            "\u001b[1m257/257\u001b[0m \u001b[32m━━━━━━━━━━━━━━━━━━━━\u001b[0m\u001b[37m\u001b[0m \u001b[1m0s\u001b[0m 2ms/step - loss: 71704903680.0000 - val_loss: 70313795584.0000\n",
            "Epoch 92/100\n",
            "\u001b[1m257/257\u001b[0m \u001b[32m━━━━━━━━━━━━━━━━━━━━\u001b[0m\u001b[37m\u001b[0m \u001b[1m1s\u001b[0m 2ms/step - loss: 70919839744.0000 - val_loss: 70317228032.0000\n",
            "Epoch 93/100\n",
            "\u001b[1m257/257\u001b[0m \u001b[32m━━━━━━━━━━━━━━━━━━━━\u001b[0m\u001b[37m\u001b[0m \u001b[1m1s\u001b[0m 2ms/step - loss: 71828979712.0000 - val_loss: 70319235072.0000\n",
            "Epoch 94/100\n",
            "\u001b[1m257/257\u001b[0m \u001b[32m━━━━━━━━━━━━━━━━━━━━\u001b[0m\u001b[37m\u001b[0m \u001b[1m0s\u001b[0m 2ms/step - loss: 69996306432.0000 - val_loss: 70314590208.0000\n",
            "Epoch 95/100\n",
            "\u001b[1m257/257\u001b[0m \u001b[32m━━━━━━━━━━━━━━━━━━━━\u001b[0m\u001b[37m\u001b[0m \u001b[1m0s\u001b[0m 2ms/step - loss: 71707779072.0000 - val_loss: 70314614784.0000\n",
            "Epoch 96/100\n",
            "\u001b[1m257/257\u001b[0m \u001b[32m━━━━━━━━━━━━━━━━━━━━\u001b[0m\u001b[37m\u001b[0m \u001b[1m1s\u001b[0m 3ms/step - loss: 69085388800.0000 - val_loss: 70313328640.0000\n",
            "Epoch 97/100\n",
            "\u001b[1m257/257\u001b[0m \u001b[32m━━━━━━━━━━━━━━━━━━━━\u001b[0m\u001b[37m\u001b[0m \u001b[1m1s\u001b[0m 3ms/step - loss: 70149611520.0000 - val_loss: 70311821312.0000\n",
            "Epoch 98/100\n",
            "\u001b[1m257/257\u001b[0m \u001b[32m━━━━━━━━━━━━━━━━━━━━\u001b[0m\u001b[37m\u001b[0m \u001b[1m1s\u001b[0m 3ms/step - loss: 69694152704.0000 - val_loss: 70306045952.0000\n",
            "Epoch 99/100\n",
            "\u001b[1m257/257\u001b[0m \u001b[32m━━━━━━━━━━━━━━━━━━━━\u001b[0m\u001b[37m\u001b[0m \u001b[1m1s\u001b[0m 2ms/step - loss: 70308184064.0000 - val_loss: 70303268864.0000\n",
            "Epoch 100/100\n",
            "\u001b[1m257/257\u001b[0m \u001b[32m━━━━━━━━━━━━━━━━━━━━\u001b[0m\u001b[37m\u001b[0m \u001b[1m0s\u001b[0m 2ms/step - loss: 70727139328.0000 - val_loss: 70312067072.0000\n"
          ]
        }
      ]
    },
    {
      "cell_type": "markdown",
      "source": [
        "**Avaliação do Modelo:** Avaliar o modelo no conjunto de teste usando métricas como o erro quadrático médio (MSE) e o coeficiente de determinação (R²) para medir a precisão das previsões."
      ],
      "metadata": {
        "id": "SnzBSLj1uNcY"
      }
    },
    {
      "cell_type": "code",
      "source": [
        "# Avaliar o modelo no conjunto de teste\n",
        "loss = model.evaluate(X_test, y_test)\n",
        "print(f'Erro Quadrático Médio no conjunto de teste: {loss}')"
      ],
      "metadata": {
        "colab": {
          "base_uri": "https://localhost:8080/"
        },
        "id": "BDaZ2jyvrqpW",
        "outputId": "a2398723-afa5-4b01-d5a7-5d6cf142585e"
      },
      "execution_count": 13,
      "outputs": [
        {
          "output_type": "stream",
          "name": "stdout",
          "text": [
            "\u001b[1m81/81\u001b[0m \u001b[32m━━━━━━━━━━━━━━━━━━━━\u001b[0m\u001b[37m\u001b[0m \u001b[1m0s\u001b[0m 1ms/step - loss: 123849072640.0000  \n",
            "Erro Quadrático Médio no conjunto de teste: 105504858112.0\n"
          ]
        }
      ]
    },
    {
      "cell_type": "markdown",
      "source": [
        "**Implementação:** Implementar o modelo em um sistema de previsão de preços de imóveis que possa ser usado por compradores, vendedores e investidores para tomar decisões informadas.\n"
      ],
      "metadata": {
        "id": "aNQedNl4uSH4"
      }
    },
    {
      "cell_type": "code",
      "source": [
        "# Fazer previsões com o modelo treinado\n",
        "predictions = model.predict(X_test)\n",
        "\n",
        "# Resetar o índice de y_test para coincidir com as previsões\n",
        "y_test = y_test.reset_index(drop=True)\n",
        "\n",
        "# Exibir algumas previsões\n",
        "for i in range(5):\n",
        "    predicted_price = float(predictions[i][0])  # Converter para float\n",
        "    print(f'Preço Real: {y_test.iloc[i]}, Preço Previsto: {predicted_price}')"
      ],
      "metadata": {
        "colab": {
          "base_uri": "https://localhost:8080/"
        },
        "id": "JnJ1z1jIntJo",
        "outputId": "274389c1-5a9c-4a29-bbec-b5986b6081e8"
      },
      "execution_count": 14,
      "outputs": [
        {
          "output_type": "stream",
          "name": "stdout",
          "text": [
            "\u001b[1m81/81\u001b[0m \u001b[32m━━━━━━━━━━━━━━━━━━━━\u001b[0m\u001b[37m\u001b[0m \u001b[1m0s\u001b[0m 2ms/step\n",
            "Preço Real: 787484.34, Preço Previsto: 657766.75\n",
            "Preço Real: 1347472.36, Preço Previsto: 765017.875\n",
            "Preço Real: 398252.92, Preço Previsto: 771588.375\n",
            "Preço Real: 389269.77, Preço Previsto: 443744.875\n",
            "Preço Real: 989403.42, Preço Previsto: 829082.3125\n"
          ]
        }
      ]
    },
    {
      "cell_type": "markdown",
      "source": [
        "# Resultados Esperados\n",
        "- Precisão: Espera-se que o modelo forneça previsões de preços de imóveis com alta precisão, reduzindo o erro em comparação com métodos tradicionais.\n",
        "- Eficiência: O modelo deve ser capaz de processar grandes volumes de dados e fornecer previsões rápidas.\n",
        "- Escalabilidade: A solução deve ser escalável para diferentes mercados imobiliários e adaptável a mudanças nas tendências do mercado.\n",
        "# Desdobramentos\n",
        "- Expansão de Funcionalidades: Adicionar novas funcionalidades ao sistema, como a previsão de tendências de mercado e a análise de investimentos.\n",
        "- Integração com Outros Sistemas: Integrar o modelo com plataformas de listagem de imóveis e sistemas de gestão imobiliária para fornecer uma solução completa.\n",
        "- Melhoria Contínua: Continuar a coletar dados e re-treinar o modelo periodicamente para garantir que ele se mantenha preciso e relevante.\n"
      ],
      "metadata": {
        "id": "mnWur_wZuUlw"
      }
    }
  ]
}