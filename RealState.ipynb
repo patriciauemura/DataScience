{
  "nbformat": 4,
  "nbformat_minor": 0,
  "metadata": {
    "colab": {
      "provenance": [],
      "toc_visible": true,
      "authorship_tag": "ABX9TyO97oxHf16BFRzebsfYI/+Q",
      "include_colab_link": true
    },
    "kernelspec": {
      "name": "python3",
      "display_name": "Python 3"
    },
    "language_info": {
      "name": "python"
    }
  },
  "cells": [
    {
      "cell_type": "markdown",
      "metadata": {
        "id": "view-in-github",
        "colab_type": "text"
      },
      "source": [
        "<a href=\"https://colab.research.google.com/github/patriciauemura/DataScience/blob/main/RealState.ipynb\" target=\"_parent\"><img src=\"https://colab.research.google.com/assets/colab-badge.svg\" alt=\"Open In Colab\"/></a>"
      ]
    },
    {
      "cell_type": "markdown",
      "source": [
        "# Problema\n",
        "O mercado imobiliário é altamente dinâmico e complexo, com preços de imóveis variando significativamente com base em diversos fatores como localização, tamanho, número de quartos, entre outros. A previsão precisa dos preços dos imóveis é crucial para compradores, vendedores e investidores. No entanto, métodos tradicionais de avaliação muitas vezes falham em capturar todas as nuances do mercado.\n",
        "# Solução\n",
        "Utilizar uma rede neural profunda (Deep Learning) para prever os preços dos imóveis com base em um conjunto de dados abrangente que inclui características dos imóveis e dados históricos de preços. A rede neural será treinada para identificar padrões complexos e relações não lineares entre as variáveis.\n",
        "#Metodologia\n",
        "**Coleta de Dados:** Reunir um conjunto de dados abrangente contendo informações sobre imóveis, como localização, tamanho, número de quartos, idade do imóvel, proximidade a serviços e dados históricos de preços."
      ],
      "metadata": {
        "id": "_9b09vijtKew"
      }
    },
    {
      "cell_type": "code",
      "execution_count": null,
      "metadata": {
        "colab": {
          "base_uri": "https://localhost:8080/"
        },
        "id": "TKlkQbp7mQvf",
        "outputId": "fc6426da-7e8c-4bea-b7c0-33aeda87dcae"
      },
      "outputs": [
        {
          "output_type": "stream",
          "name": "stdout",
          "text": [
            "   Unnamed: 0 property_type       state     region       lat        lon  \\\n",
            "0           1     apartment  Pernambuco  Northeast -8.134204 -34.906326   \n",
            "1           2     apartment  Pernambuco  Northeast -8.126664 -34.903924   \n",
            "2           3     apartment  Pernambuco  Northeast -8.125550 -34.907601   \n",
            "3           4     apartment  Pernambuco  Northeast -8.120249 -34.895920   \n",
            "4           5     apartment  Pernambuco  Northeast -8.142666 -34.906906   \n",
            "\n",
            "   area_m2  price_brl  \n",
            "0     72.0  414222.98  \n",
            "1    136.0  848408.53  \n",
            "2     75.0  299438.28  \n",
            "3    187.0  848408.53  \n",
            "4     80.0  464129.36  \n"
          ]
        }
      ],
      "source": [
        "import pandas as pd\n",
        "from sklearn.model_selection import train_test_split\n",
        "from sklearn.preprocessing import StandardScaler, OneHotEncoder\n",
        "from sklearn.compose import ColumnTransformer\n",
        "\n",
        "# Carregar o conjunto de dados\n",
        "data = pd.read_csv('Brasile-real-estate-dataset.csv', encoding='latin1')\n",
        "\n",
        "# Visualizar as primeiras linhas do conjunto de dados\n",
        "print(data.head())\n",
        "\n"
      ]
    },
    {
      "cell_type": "markdown",
      "source": [
        "**Pré-processamento de Dados:** Limpar e normalizar os dados para garantir que estejam prontos para serem usados no modelo. Isso inclui lidar com valores ausentes, normalizar variáveis numéricas e codificar variáveis categóricas."
      ],
      "metadata": {
        "id": "426bYxsYtpPh"
      }
    },
    {
      "cell_type": "code",
      "source": [
        "# Separar as variáveis independentes (X) e a variável dependente (y)\n",
        "X = data.drop('price_brl', axis=1)\n",
        "y = data['price_brl']\n",
        "\n",
        "# Dividir o conjunto de dados em conjuntos de treinamento e teste\n",
        "X_train, X_test, y_train, y_test = train_test_split(X, y, test_size=0.2, random_state=42)\n",
        "\n",
        "# Identificar colunas numéricas e categóricas\n",
        "numerical_features = X_train.select_dtypes(include=['int64', 'float64']).columns\n",
        "categorical_features = X_train.select_dtypes(include=['object']).columns\n",
        "\n",
        "# Criar um transformador para pré-processar colunas numéricas e categóricas\n",
        "preprocessor = ColumnTransformer(\n",
        "    transformers=[\n",
        "        ('num', StandardScaler(), numerical_features),\n",
        "        ('cat', OneHotEncoder(sparse_output=False, handle_unknown='ignore'), categorical_features)])\n",
        "\n",
        "# Ajustar e transformar os dados de treinamento\n",
        "X_train = preprocessor.fit_transform(X_train)\n",
        "\n",
        "# Transformar os dados de teste\n",
        "X_test = preprocessor.transform(X_test)"
      ],
      "metadata": {
        "id": "JDiEdk03tqBm"
      },
      "execution_count": null,
      "outputs": []
    },
    {
      "cell_type": "markdown",
      "source": [
        "**Divisão dos Dados:** Dividir o conjunto de dados em conjuntos de treinamento, validação e teste usando o método hold-out para garantir que o modelo seja avaliado de forma justa.\n",
        "\n",
        "**Construção do Modelo:** Construir uma rede neural profunda com múltiplas camadas ocultas. Utilizar a função de ativação ReLU nas camadas ocultas e a função de ativação linear na camada de saída."
      ],
      "metadata": {
        "id": "_d4GuULxt8md"
      }
    },
    {
      "source": [
        "from tensorflow.keras.models import Sequential\n",
        "from tensorflow.keras.layers import Dense\n",
        "\n",
        "# Construir a rede neural profunda\n",
        "model = Sequential()\n",
        "model.add(Dense(64, input_dim=X_train.shape[1], activation='relu'))\n",
        "model.add(Dense(32, activation='relu'))\n",
        "model.add(Dense(1, activation='linear'))\n",
        "\n",
        "# Compilar o modelo\n",
        "model.compile(optimizer='adam', loss='mean_squared_error')\n"
      ],
      "cell_type": "code",
      "metadata": {
        "colab": {
          "base_uri": "https://localhost:8080/"
        },
        "id": "g1MxNdydnTzv",
        "outputId": "7cb1b302-bbc6-4ad4-9469-444a7f85b6d6"
      },
      "execution_count": null,
      "outputs": [
        {
          "output_type": "stream",
          "name": "stderr",
          "text": [
            "/usr/local/lib/python3.10/dist-packages/keras/src/layers/core/dense.py:87: UserWarning: Do not pass an `input_shape`/`input_dim` argument to a layer. When using Sequential models, prefer using an `Input(shape)` object as the first layer in the model instead.\n",
            "  super().__init__(activity_regularizer=activity_regularizer, **kwargs)\n"
          ]
        }
      ]
    },
    {
      "cell_type": "markdown",
      "source": [
        "**Treinamento do Modelo:** Treinar o modelo usando o algoritmo de backpropagation e o otimizador Adam. Ajustar os hiperparâmetros, como a taxa de aprendizado, para melhorar o desempenho do modelo."
      ],
      "metadata": {
        "id": "Lwp3Q6euuIaI"
      }
    },
    {
      "cell_type": "code",
      "source": [
        "# Treinar o modelo\n",
        "history = model.fit(X_train, y_train, epochs=100, batch_size=32, validation_split=0.2)\n"
      ],
      "metadata": {
        "colab": {
          "base_uri": "https://localhost:8080/"
        },
        "id": "d2Qkxl81nj-b",
        "outputId": "06c1a273-35b5-4176-acab-663880e2249e"
      },
      "execution_count": null,
      "outputs": [
        {
          "output_type": "stream",
          "name": "stdout",
          "text": [
            "Epoch 1/100\n",
            "\u001b[1m257/257\u001b[0m \u001b[32m━━━━━━━━━━━━━━━━━━━━\u001b[0m\u001b[37m\u001b[0m \u001b[1m2s\u001b[0m 2ms/step - loss: 563351322624.0000 - val_loss: 555453579264.0000\n",
            "Epoch 2/100\n",
            "\u001b[1m257/257\u001b[0m \u001b[32m━━━━━━━━━━━━━━━━━━━━\u001b[0m\u001b[37m\u001b[0m \u001b[1m1s\u001b[0m 2ms/step - loss: 559375581184.0000 - val_loss: 550016450560.0000\n",
            "Epoch 3/100\n",
            "\u001b[1m257/257\u001b[0m \u001b[32m━━━━━━━━━━━━━━━━━━━━\u001b[0m\u001b[37m\u001b[0m \u001b[1m1s\u001b[0m 2ms/step - loss: 560145301504.0000 - val_loss: 535619272704.0000\n",
            "Epoch 4/100\n",
            "\u001b[1m257/257\u001b[0m \u001b[32m━━━━━━━━━━━━━━━━━━━━\u001b[0m\u001b[37m\u001b[0m \u001b[1m1s\u001b[0m 2ms/step - loss: 540221014016.0000 - val_loss: 510019010560.0000\n",
            "Epoch 5/100\n",
            "\u001b[1m257/257\u001b[0m \u001b[32m━━━━━━━━━━━━━━━━━━━━\u001b[0m\u001b[37m\u001b[0m \u001b[1m1s\u001b[0m 2ms/step - loss: 515428089856.0000 - val_loss: 472781684736.0000\n",
            "Epoch 6/100\n",
            "\u001b[1m257/257\u001b[0m \u001b[32m━━━━━━━━━━━━━━━━━━━━\u001b[0m\u001b[37m\u001b[0m \u001b[1m1s\u001b[0m 2ms/step - loss: 473232048128.0000 - val_loss: 425099755520.0000\n",
            "Epoch 7/100\n",
            "\u001b[1m257/257\u001b[0m \u001b[32m━━━━━━━━━━━━━━━━━━━━\u001b[0m\u001b[37m\u001b[0m \u001b[1m1s\u001b[0m 2ms/step - loss: 417050886144.0000 - val_loss: 369856249856.0000\n",
            "Epoch 8/100\n",
            "\u001b[1m257/257\u001b[0m \u001b[32m━━━━━━━━━━━━━━━━━━━━\u001b[0m\u001b[37m\u001b[0m \u001b[1m1s\u001b[0m 2ms/step - loss: 357683003392.0000 - val_loss: 311186030592.0000\n",
            "Epoch 9/100\n",
            "\u001b[1m257/257\u001b[0m \u001b[32m━━━━━━━━━━━━━━━━━━━━\u001b[0m\u001b[37m\u001b[0m \u001b[1m1s\u001b[0m 2ms/step - loss: 298217996288.0000 - val_loss: 253633445888.0000\n",
            "Epoch 10/100\n",
            "\u001b[1m257/257\u001b[0m \u001b[32m━━━━━━━━━━━━━━━━━━━━\u001b[0m\u001b[37m\u001b[0m \u001b[1m1s\u001b[0m 3ms/step - loss: 243984285696.0000 - val_loss: 201887350784.0000\n",
            "Epoch 11/100\n",
            "\u001b[1m257/257\u001b[0m \u001b[32m━━━━━━━━━━━━━━━━━━━━\u001b[0m\u001b[37m\u001b[0m \u001b[1m1s\u001b[0m 3ms/step - loss: 192045318144.0000 - val_loss: 159316541440.0000\n",
            "Epoch 12/100\n",
            "\u001b[1m257/257\u001b[0m \u001b[32m━━━━━━━━━━━━━━━━━━━━\u001b[0m\u001b[37m\u001b[0m \u001b[1m1s\u001b[0m 2ms/step - loss: 161414250496.0000 - val_loss: 127903522816.0000\n",
            "Epoch 13/100\n",
            "\u001b[1m257/257\u001b[0m \u001b[32m━━━━━━━━━━━━━━━━━━━━\u001b[0m\u001b[37m\u001b[0m \u001b[1m1s\u001b[0m 2ms/step - loss: 126675386368.0000 - val_loss: 107270979584.0000\n",
            "Epoch 14/100\n",
            "\u001b[1m257/257\u001b[0m \u001b[32m━━━━━━━━━━━━━━━━━━━━\u001b[0m\u001b[37m\u001b[0m \u001b[1m0s\u001b[0m 2ms/step - loss: 103280541696.0000 - val_loss: 95214575616.0000\n",
            "Epoch 15/100\n",
            "\u001b[1m257/257\u001b[0m \u001b[32m━━━━━━━━━━━━━━━━━━━━\u001b[0m\u001b[37m\u001b[0m \u001b[1m1s\u001b[0m 2ms/step - loss: 94251507712.0000 - val_loss: 88908759040.0000\n",
            "Epoch 16/100\n",
            "\u001b[1m257/257\u001b[0m \u001b[32m━━━━━━━━━━━━━━━━━━━━\u001b[0m\u001b[37m\u001b[0m \u001b[1m1s\u001b[0m 2ms/step - loss: 86689447936.0000 - val_loss: 85596266496.0000\n",
            "Epoch 17/100\n",
            "\u001b[1m257/257\u001b[0m \u001b[32m━━━━━━━━━━━━━━━━━━━━\u001b[0m\u001b[37m\u001b[0m \u001b[1m1s\u001b[0m 2ms/step - loss: 84354654208.0000 - val_loss: 83671736320.0000\n",
            "Epoch 18/100\n",
            "\u001b[1m257/257\u001b[0m \u001b[32m━━━━━━━━━━━━━━━━━━━━\u001b[0m\u001b[37m\u001b[0m \u001b[1m1s\u001b[0m 2ms/step - loss: 83897303040.0000 - val_loss: 82313330688.0000\n",
            "Epoch 19/100\n",
            "\u001b[1m257/257\u001b[0m \u001b[32m━━━━━━━━━━━━━━━━━━━━\u001b[0m\u001b[37m\u001b[0m \u001b[1m0s\u001b[0m 2ms/step - loss: 82312380416.0000 - val_loss: 81202921472.0000\n",
            "Epoch 20/100\n",
            "\u001b[1m257/257\u001b[0m \u001b[32m━━━━━━━━━━━━━━━━━━━━\u001b[0m\u001b[37m\u001b[0m \u001b[1m1s\u001b[0m 2ms/step - loss: 82517934080.0000 - val_loss: 80192724992.0000\n",
            "Epoch 21/100\n",
            "\u001b[1m257/257\u001b[0m \u001b[32m━━━━━━━━━━━━━━━━━━━━\u001b[0m\u001b[37m\u001b[0m \u001b[1m0s\u001b[0m 2ms/step - loss: 79553830912.0000 - val_loss: 79266701312.0000\n",
            "Epoch 22/100\n",
            "\u001b[1m257/257\u001b[0m \u001b[32m━━━━━━━━━━━━━━━━━━━━\u001b[0m\u001b[37m\u001b[0m \u001b[1m1s\u001b[0m 3ms/step - loss: 79900508160.0000 - val_loss: 78451056640.0000\n",
            "Epoch 23/100\n",
            "\u001b[1m257/257\u001b[0m \u001b[32m━━━━━━━━━━━━━━━━━━━━\u001b[0m\u001b[37m\u001b[0m \u001b[1m1s\u001b[0m 3ms/step - loss: 79777333248.0000 - val_loss: 77699448832.0000\n",
            "Epoch 24/100\n",
            "\u001b[1m257/257\u001b[0m \u001b[32m━━━━━━━━━━━━━━━━━━━━\u001b[0m\u001b[37m\u001b[0m \u001b[1m1s\u001b[0m 3ms/step - loss: 77563797504.0000 - val_loss: 77006970880.0000\n",
            "Epoch 25/100\n",
            "\u001b[1m257/257\u001b[0m \u001b[32m━━━━━━━━━━━━━━━━━━━━\u001b[0m\u001b[37m\u001b[0m \u001b[1m1s\u001b[0m 2ms/step - loss: 75923447808.0000 - val_loss: 76383576064.0000\n",
            "Epoch 26/100\n",
            "\u001b[1m257/257\u001b[0m \u001b[32m━━━━━━━━━━━━━━━━━━━━\u001b[0m\u001b[37m\u001b[0m \u001b[1m1s\u001b[0m 2ms/step - loss: 78636589056.0000 - val_loss: 75782447104.0000\n",
            "Epoch 27/100\n",
            "\u001b[1m257/257\u001b[0m \u001b[32m━━━━━━━━━━━━━━━━━━━━\u001b[0m\u001b[37m\u001b[0m \u001b[1m1s\u001b[0m 3ms/step - loss: 74960740352.0000 - val_loss: 75243716608.0000\n",
            "Epoch 28/100\n",
            "\u001b[1m257/257\u001b[0m \u001b[32m━━━━━━━━━━━━━━━━━━━━\u001b[0m\u001b[37m\u001b[0m \u001b[1m1s\u001b[0m 3ms/step - loss: 76432007168.0000 - val_loss: 74746675200.0000\n",
            "Epoch 29/100\n",
            "\u001b[1m257/257\u001b[0m \u001b[32m━━━━━━━━━━━━━━━━━━━━\u001b[0m\u001b[37m\u001b[0m \u001b[1m1s\u001b[0m 2ms/step - loss: 74138771456.0000 - val_loss: 74295361536.0000\n",
            "Epoch 30/100\n",
            "\u001b[1m257/257\u001b[0m \u001b[32m━━━━━━━━━━━━━━━━━━━━\u001b[0m\u001b[37m\u001b[0m \u001b[1m1s\u001b[0m 2ms/step - loss: 73339699200.0000 - val_loss: 73880354816.0000\n",
            "Epoch 31/100\n",
            "\u001b[1m257/257\u001b[0m \u001b[32m━━━━━━━━━━━━━━━━━━━━\u001b[0m\u001b[37m\u001b[0m \u001b[1m1s\u001b[0m 2ms/step - loss: 74570006528.0000 - val_loss: 73495502848.0000\n",
            "Epoch 32/100\n",
            "\u001b[1m257/257\u001b[0m \u001b[32m━━━━━━━━━━━━━━━━━━━━\u001b[0m\u001b[37m\u001b[0m \u001b[1m1s\u001b[0m 2ms/step - loss: 74749239296.0000 - val_loss: 73160957952.0000\n",
            "Epoch 33/100\n",
            "\u001b[1m257/257\u001b[0m \u001b[32m━━━━━━━━━━━━━━━━━━━━\u001b[0m\u001b[37m\u001b[0m \u001b[1m1s\u001b[0m 2ms/step - loss: 74051518464.0000 - val_loss: 72855150592.0000\n",
            "Epoch 34/100\n",
            "\u001b[1m257/257\u001b[0m \u001b[32m━━━━━━━━━━━━━━━━━━━━\u001b[0m\u001b[37m\u001b[0m \u001b[1m1s\u001b[0m 2ms/step - loss: 76661817344.0000 - val_loss: 72562212864.0000\n",
            "Epoch 35/100\n",
            "\u001b[1m257/257\u001b[0m \u001b[32m━━━━━━━━━━━━━━━━━━━━\u001b[0m\u001b[37m\u001b[0m \u001b[1m1s\u001b[0m 2ms/step - loss: 72699625472.0000 - val_loss: 72314011648.0000\n",
            "Epoch 36/100\n",
            "\u001b[1m257/257\u001b[0m \u001b[32m━━━━━━━━━━━━━━━━━━━━\u001b[0m\u001b[37m\u001b[0m \u001b[1m1s\u001b[0m 2ms/step - loss: 72924250112.0000 - val_loss: 72079433728.0000\n",
            "Epoch 37/100\n",
            "\u001b[1m257/257\u001b[0m \u001b[32m━━━━━━━━━━━━━━━━━━━━\u001b[0m\u001b[37m\u001b[0m \u001b[1m1s\u001b[0m 2ms/step - loss: 73394765824.0000 - val_loss: 71884693504.0000\n",
            "Epoch 38/100\n",
            "\u001b[1m257/257\u001b[0m \u001b[32m━━━━━━━━━━━━━━━━━━━━\u001b[0m\u001b[37m\u001b[0m \u001b[1m0s\u001b[0m 2ms/step - loss: 73245507584.0000 - val_loss: 71692386304.0000\n",
            "Epoch 39/100\n",
            "\u001b[1m257/257\u001b[0m \u001b[32m━━━━━━━━━━━━━━━━━━━━\u001b[0m\u001b[37m\u001b[0m \u001b[1m1s\u001b[0m 2ms/step - loss: 72023949312.0000 - val_loss: 71530872832.0000\n",
            "Epoch 40/100\n",
            "\u001b[1m257/257\u001b[0m \u001b[32m━━━━━━━━━━━━━━━━━━━━\u001b[0m\u001b[37m\u001b[0m \u001b[1m1s\u001b[0m 2ms/step - loss: 73848299520.0000 - val_loss: 71390035968.0000\n",
            "Epoch 41/100\n",
            "\u001b[1m257/257\u001b[0m \u001b[32m━━━━━━━━━━━━━━━━━━━━\u001b[0m\u001b[37m\u001b[0m \u001b[1m1s\u001b[0m 2ms/step - loss: 71323680768.0000 - val_loss: 71255212032.0000\n",
            "Epoch 42/100\n",
            "\u001b[1m257/257\u001b[0m \u001b[32m━━━━━━━━━━━━━━━━━━━━\u001b[0m\u001b[37m\u001b[0m \u001b[1m1s\u001b[0m 3ms/step - loss: 74259054592.0000 - val_loss: 71139966976.0000\n",
            "Epoch 43/100\n",
            "\u001b[1m257/257\u001b[0m \u001b[32m━━━━━━━━━━━━━━━━━━━━\u001b[0m\u001b[37m\u001b[0m \u001b[1m1s\u001b[0m 2ms/step - loss: 74281263104.0000 - val_loss: 71051567104.0000\n",
            "Epoch 44/100\n",
            "\u001b[1m257/257\u001b[0m \u001b[32m━━━━━━━━━━━━━━━━━━━━\u001b[0m\u001b[37m\u001b[0m \u001b[1m1s\u001b[0m 3ms/step - loss: 73779003392.0000 - val_loss: 70970023936.0000\n",
            "Epoch 45/100\n",
            "\u001b[1m257/257\u001b[0m \u001b[32m━━━━━━━━━━━━━━━━━━━━\u001b[0m\u001b[37m\u001b[0m \u001b[1m1s\u001b[0m 3ms/step - loss: 69476433920.0000 - val_loss: 70891626496.0000\n",
            "Epoch 46/100\n",
            "\u001b[1m257/257\u001b[0m \u001b[32m━━━━━━━━━━━━━━━━━━━━\u001b[0m\u001b[37m\u001b[0m \u001b[1m2s\u001b[0m 4ms/step - loss: 72459886592.0000 - val_loss: 70818783232.0000\n",
            "Epoch 47/100\n",
            "\u001b[1m257/257\u001b[0m \u001b[32m━━━━━━━━━━━━━━━━━━━━\u001b[0m\u001b[37m\u001b[0m \u001b[1m1s\u001b[0m 2ms/step - loss: 70577512448.0000 - val_loss: 70757720064.0000\n",
            "Epoch 48/100\n",
            "\u001b[1m257/257\u001b[0m \u001b[32m━━━━━━━━━━━━━━━━━━━━\u001b[0m\u001b[37m\u001b[0m \u001b[1m1s\u001b[0m 2ms/step - loss: 72846499840.0000 - val_loss: 70700064768.0000\n",
            "Epoch 49/100\n",
            "\u001b[1m257/257\u001b[0m \u001b[32m━━━━━━━━━━━━━━━━━━━━\u001b[0m\u001b[37m\u001b[0m \u001b[1m1s\u001b[0m 2ms/step - loss: 72016699392.0000 - val_loss: 70658482176.0000\n",
            "Epoch 50/100\n",
            "\u001b[1m257/257\u001b[0m \u001b[32m━━━━━━━━━━━━━━━━━━━━\u001b[0m\u001b[37m\u001b[0m \u001b[1m1s\u001b[0m 2ms/step - loss: 70660530176.0000 - val_loss: 70609043456.0000\n",
            "Epoch 51/100\n",
            "\u001b[1m257/257\u001b[0m \u001b[32m━━━━━━━━━━━━━━━━━━━━\u001b[0m\u001b[37m\u001b[0m \u001b[1m1s\u001b[0m 2ms/step - loss: 74033225728.0000 - val_loss: 70581665792.0000\n",
            "Epoch 52/100\n",
            "\u001b[1m257/257\u001b[0m \u001b[32m━━━━━━━━━━━━━━━━━━━━\u001b[0m\u001b[37m\u001b[0m \u001b[1m0s\u001b[0m 2ms/step - loss: 73602048000.0000 - val_loss: 70543450112.0000\n",
            "Epoch 53/100\n",
            "\u001b[1m257/257\u001b[0m \u001b[32m━━━━━━━━━━━━━━━━━━━━\u001b[0m\u001b[37m\u001b[0m \u001b[1m0s\u001b[0m 2ms/step - loss: 73429843968.0000 - val_loss: 70527057920.0000\n",
            "Epoch 54/100\n",
            "\u001b[1m257/257\u001b[0m \u001b[32m━━━━━━━━━━━━━━━━━━━━\u001b[0m\u001b[37m\u001b[0m \u001b[1m1s\u001b[0m 2ms/step - loss: 70233505792.0000 - val_loss: 70504546304.0000\n",
            "Epoch 55/100\n",
            "\u001b[1m257/257\u001b[0m \u001b[32m━━━━━━━━━━━━━━━━━━━━\u001b[0m\u001b[37m\u001b[0m \u001b[1m1s\u001b[0m 2ms/step - loss: 71844495360.0000 - val_loss: 70489284608.0000\n",
            "Epoch 56/100\n",
            "\u001b[1m257/257\u001b[0m \u001b[32m━━━━━━━━━━━━━━━━━━━━\u001b[0m\u001b[37m\u001b[0m \u001b[1m1s\u001b[0m 2ms/step - loss: 71885963264.0000 - val_loss: 70467264512.0000\n",
            "Epoch 57/100\n",
            "\u001b[1m257/257\u001b[0m \u001b[32m━━━━━━━━━━━━━━━━━━━━\u001b[0m\u001b[37m\u001b[0m \u001b[1m1s\u001b[0m 2ms/step - loss: 70234333184.0000 - val_loss: 70449905664.0000\n",
            "Epoch 58/100\n",
            "\u001b[1m257/257\u001b[0m \u001b[32m━━━━━━━━━━━━━━━━━━━━\u001b[0m\u001b[37m\u001b[0m \u001b[1m1s\u001b[0m 2ms/step - loss: 70823501824.0000 - val_loss: 70433824768.0000\n",
            "Epoch 59/100\n",
            "\u001b[1m257/257\u001b[0m \u001b[32m━━━━━━━━━━━━━━━━━━━━\u001b[0m\u001b[37m\u001b[0m \u001b[1m1s\u001b[0m 2ms/step - loss: 70806495232.0000 - val_loss: 70432391168.0000\n",
            "Epoch 60/100\n",
            "\u001b[1m257/257\u001b[0m \u001b[32m━━━━━━━━━━━━━━━━━━━━\u001b[0m\u001b[37m\u001b[0m \u001b[1m1s\u001b[0m 2ms/step - loss: 70563667968.0000 - val_loss: 70412763136.0000\n",
            "Epoch 61/100\n",
            "\u001b[1m257/257\u001b[0m \u001b[32m━━━━━━━━━━━━━━━━━━━━\u001b[0m\u001b[37m\u001b[0m \u001b[1m1s\u001b[0m 2ms/step - loss: 70491906048.0000 - val_loss: 70404407296.0000\n",
            "Epoch 62/100\n",
            "\u001b[1m257/257\u001b[0m \u001b[32m━━━━━━━━━━━━━━━━━━━━\u001b[0m\u001b[37m\u001b[0m \u001b[1m1s\u001b[0m 2ms/step - loss: 72154062848.0000 - val_loss: 70386991104.0000\n",
            "Epoch 63/100\n",
            "\u001b[1m257/257\u001b[0m \u001b[32m━━━━━━━━━━━━━━━━━━━━\u001b[0m\u001b[37m\u001b[0m \u001b[1m1s\u001b[0m 3ms/step - loss: 71667998720.0000 - val_loss: 70397755392.0000\n",
            "Epoch 64/100\n",
            "\u001b[1m257/257\u001b[0m \u001b[32m━━━━━━━━━━━━━━━━━━━━\u001b[0m\u001b[37m\u001b[0m \u001b[1m1s\u001b[0m 2ms/step - loss: 72173043712.0000 - val_loss: 70390611968.0000\n",
            "Epoch 65/100\n",
            "\u001b[1m257/257\u001b[0m \u001b[32m━━━━━━━━━━━━━━━━━━━━\u001b[0m\u001b[37m\u001b[0m \u001b[1m0s\u001b[0m 2ms/step - loss: 72334442496.0000 - val_loss: 70389145600.0000\n",
            "Epoch 66/100\n",
            "\u001b[1m257/257\u001b[0m \u001b[32m━━━━━━━━━━━━━━━━━━━━\u001b[0m\u001b[37m\u001b[0m \u001b[1m1s\u001b[0m 2ms/step - loss: 70603595776.0000 - val_loss: 70371704832.0000\n",
            "Epoch 67/100\n",
            "\u001b[1m257/257\u001b[0m \u001b[32m━━━━━━━━━━━━━━━━━━━━\u001b[0m\u001b[37m\u001b[0m \u001b[1m1s\u001b[0m 2ms/step - loss: 72537055232.0000 - val_loss: 70371860480.0000\n",
            "Epoch 68/100\n",
            "\u001b[1m257/257\u001b[0m \u001b[32m━━━━━━━━━━━━━━━━━━━━\u001b[0m\u001b[37m\u001b[0m \u001b[1m1s\u001b[0m 2ms/step - loss: 71397089280.0000 - val_loss: 70378512384.0000\n",
            "Epoch 69/100\n",
            "\u001b[1m257/257\u001b[0m \u001b[32m━━━━━━━━━━━━━━━━━━━━\u001b[0m\u001b[37m\u001b[0m \u001b[1m1s\u001b[0m 2ms/step - loss: 72047878144.0000 - val_loss: 70369222656.0000\n",
            "Epoch 70/100\n",
            "\u001b[1m257/257\u001b[0m \u001b[32m━━━━━━━━━━━━━━━━━━━━\u001b[0m\u001b[37m\u001b[0m \u001b[1m1s\u001b[0m 2ms/step - loss: 69146558464.0000 - val_loss: 70362128384.0000\n",
            "Epoch 71/100\n",
            "\u001b[1m257/257\u001b[0m \u001b[32m━━━━━━━━━━━━━━━━━━━━\u001b[0m\u001b[37m\u001b[0m \u001b[1m1s\u001b[0m 2ms/step - loss: 72399486976.0000 - val_loss: 70365675520.0000\n",
            "Epoch 72/100\n",
            "\u001b[1m257/257\u001b[0m \u001b[32m━━━━━━━━━━━━━━━━━━━━\u001b[0m\u001b[37m\u001b[0m \u001b[1m1s\u001b[0m 2ms/step - loss: 71432708096.0000 - val_loss: 70365511680.0000\n",
            "Epoch 73/100\n",
            "\u001b[1m257/257\u001b[0m \u001b[32m━━━━━━━━━━━━━━━━━━━━\u001b[0m\u001b[37m\u001b[0m \u001b[1m1s\u001b[0m 2ms/step - loss: 69979619328.0000 - val_loss: 70352543744.0000\n",
            "Epoch 74/100\n",
            "\u001b[1m257/257\u001b[0m \u001b[32m━━━━━━━━━━━━━━━━━━━━\u001b[0m\u001b[37m\u001b[0m \u001b[1m1s\u001b[0m 2ms/step - loss: 73089114112.0000 - val_loss: 70356131840.0000\n",
            "Epoch 75/100\n",
            "\u001b[1m257/257\u001b[0m \u001b[32m━━━━━━━━━━━━━━━━━━━━\u001b[0m\u001b[37m\u001b[0m \u001b[1m1s\u001b[0m 2ms/step - loss: 71396941824.0000 - val_loss: 70349938688.0000\n",
            "Epoch 76/100\n",
            "\u001b[1m257/257\u001b[0m \u001b[32m━━━━━━━━━━━━━━━━━━━━\u001b[0m\u001b[37m\u001b[0m \u001b[1m1s\u001b[0m 2ms/step - loss: 73374760960.0000 - val_loss: 70349832192.0000\n",
            "Epoch 77/100\n",
            "\u001b[1m257/257\u001b[0m \u001b[32m━━━━━━━━━━━━━━━━━━━━\u001b[0m\u001b[37m\u001b[0m \u001b[1m1s\u001b[0m 2ms/step - loss: 70426763264.0000 - val_loss: 70337011712.0000\n",
            "Epoch 78/100\n",
            "\u001b[1m257/257\u001b[0m \u001b[32m━━━━━━━━━━━━━━━━━━━━\u001b[0m\u001b[37m\u001b[0m \u001b[1m1s\u001b[0m 2ms/step - loss: 73509863424.0000 - val_loss: 70339739648.0000\n",
            "Epoch 79/100\n",
            "\u001b[1m257/257\u001b[0m \u001b[32m━━━━━━━━━━━━━━━━━━━━\u001b[0m\u001b[37m\u001b[0m \u001b[1m1s\u001b[0m 2ms/step - loss: 71768121344.0000 - val_loss: 70351962112.0000\n",
            "Epoch 80/100\n",
            "\u001b[1m257/257\u001b[0m \u001b[32m━━━━━━━━━━━━━━━━━━━━\u001b[0m\u001b[37m\u001b[0m \u001b[1m1s\u001b[0m 2ms/step - loss: 71975985152.0000 - val_loss: 70345629696.0000\n",
            "Epoch 81/100\n",
            "\u001b[1m257/257\u001b[0m \u001b[32m━━━━━━━━━━━━━━━━━━━━\u001b[0m\u001b[37m\u001b[0m \u001b[1m1s\u001b[0m 2ms/step - loss: 73201426432.0000 - val_loss: 70340616192.0000\n",
            "Epoch 82/100\n",
            "\u001b[1m257/257\u001b[0m \u001b[32m━━━━━━━━━━━━━━━━━━━━\u001b[0m\u001b[37m\u001b[0m \u001b[1m1s\u001b[0m 3ms/step - loss: 71309451264.0000 - val_loss: 70340501504.0000\n",
            "Epoch 83/100\n",
            "\u001b[1m257/257\u001b[0m \u001b[32m━━━━━━━━━━━━━━━━━━━━\u001b[0m\u001b[37m\u001b[0m \u001b[1m1s\u001b[0m 3ms/step - loss: 69915426816.0000 - val_loss: 70345064448.0000\n",
            "Epoch 84/100\n",
            "\u001b[1m257/257\u001b[0m \u001b[32m━━━━━━━━━━━━━━━━━━━━\u001b[0m\u001b[37m\u001b[0m \u001b[1m1s\u001b[0m 2ms/step - loss: 73866657792.0000 - val_loss: 70330875904.0000\n",
            "Epoch 85/100\n",
            "\u001b[1m257/257\u001b[0m \u001b[32m━━━━━━━━━━━━━━━━━━━━\u001b[0m\u001b[37m\u001b[0m \u001b[1m1s\u001b[0m 2ms/step - loss: 69720956928.0000 - val_loss: 70344155136.0000\n",
            "Epoch 86/100\n",
            "\u001b[1m257/257\u001b[0m \u001b[32m━━━━━━━━━━━━━━━━━━━━\u001b[0m\u001b[37m\u001b[0m \u001b[1m1s\u001b[0m 2ms/step - loss: 72198496256.0000 - val_loss: 70344474624.0000\n",
            "Epoch 87/100\n",
            "\u001b[1m257/257\u001b[0m \u001b[32m━━━━━━━━━━━━━━━━━━━━\u001b[0m\u001b[37m\u001b[0m \u001b[1m1s\u001b[0m 2ms/step - loss: 70891479040.0000 - val_loss: 70332383232.0000\n",
            "Epoch 88/100\n",
            "\u001b[1m257/257\u001b[0m \u001b[32m━━━━━━━━━━━━━━━━━━━━\u001b[0m\u001b[37m\u001b[0m \u001b[1m1s\u001b[0m 2ms/step - loss: 71101448192.0000 - val_loss: 70334152704.0000\n",
            "Epoch 89/100\n",
            "\u001b[1m257/257\u001b[0m \u001b[32m━━━━━━━━━━━━━━━━━━━━\u001b[0m\u001b[37m\u001b[0m \u001b[1m1s\u001b[0m 2ms/step - loss: 69957844992.0000 - val_loss: 70341091328.0000\n",
            "Epoch 90/100\n",
            "\u001b[1m257/257\u001b[0m \u001b[32m━━━━━━━━━━━━━━━━━━━━\u001b[0m\u001b[37m\u001b[0m \u001b[1m1s\u001b[0m 2ms/step - loss: 70640615424.0000 - val_loss: 70333145088.0000\n",
            "Epoch 91/100\n",
            "\u001b[1m257/257\u001b[0m \u001b[32m━━━━━━━━━━━━━━━━━━━━\u001b[0m\u001b[37m\u001b[0m \u001b[1m1s\u001b[0m 2ms/step - loss: 72272158720.0000 - val_loss: 70332948480.0000\n",
            "Epoch 92/100\n",
            "\u001b[1m257/257\u001b[0m \u001b[32m━━━━━━━━━━━━━━━━━━━━\u001b[0m\u001b[37m\u001b[0m \u001b[1m0s\u001b[0m 2ms/step - loss: 70465142784.0000 - val_loss: 70334054400.0000\n",
            "Epoch 93/100\n",
            "\u001b[1m257/257\u001b[0m \u001b[32m━━━━━━━━━━━━━━━━━━━━\u001b[0m\u001b[37m\u001b[0m \u001b[1m1s\u001b[0m 2ms/step - loss: 70633357312.0000 - val_loss: 70319906816.0000\n",
            "Epoch 94/100\n",
            "\u001b[1m257/257\u001b[0m \u001b[32m━━━━━━━━━━━━━━━━━━━━\u001b[0m\u001b[37m\u001b[0m \u001b[1m1s\u001b[0m 2ms/step - loss: 70424641536.0000 - val_loss: 70326091776.0000\n",
            "Epoch 95/100\n",
            "\u001b[1m257/257\u001b[0m \u001b[32m━━━━━━━━━━━━━━━━━━━━\u001b[0m\u001b[37m\u001b[0m \u001b[1m1s\u001b[0m 2ms/step - loss: 73307070464.0000 - val_loss: 70330064896.0000\n",
            "Epoch 96/100\n",
            "\u001b[1m257/257\u001b[0m \u001b[32m━━━━━━━━━━━━━━━━━━━━\u001b[0m\u001b[37m\u001b[0m \u001b[1m0s\u001b[0m 2ms/step - loss: 68658188288.0000 - val_loss: 70331351040.0000\n",
            "Epoch 97/100\n",
            "\u001b[1m257/257\u001b[0m \u001b[32m━━━━━━━━━━━━━━━━━━━━\u001b[0m\u001b[37m\u001b[0m \u001b[1m1s\u001b[0m 2ms/step - loss: 71449051136.0000 - val_loss: 70327631872.0000\n",
            "Epoch 98/100\n",
            "\u001b[1m257/257\u001b[0m \u001b[32m━━━━━━━━━━━━━━━━━━━━\u001b[0m\u001b[37m\u001b[0m \u001b[1m0s\u001b[0m 2ms/step - loss: 71964139520.0000 - val_loss: 70331826176.0000\n",
            "Epoch 99/100\n",
            "\u001b[1m257/257\u001b[0m \u001b[32m━━━━━━━━━━━━━━━━━━━━\u001b[0m\u001b[37m\u001b[0m \u001b[1m1s\u001b[0m 2ms/step - loss: 72122400768.0000 - val_loss: 70329229312.0000\n",
            "Epoch 100/100\n",
            "\u001b[1m257/257\u001b[0m \u001b[32m━━━━━━━━━━━━━━━━━━━━\u001b[0m\u001b[37m\u001b[0m \u001b[1m0s\u001b[0m 2ms/step - loss: 71771340800.0000 - val_loss: 70325231616.0000\n"
          ]
        }
      ]
    },
    {
      "cell_type": "markdown",
      "source": [
        "**Avaliação do Modelo:** Avaliar o modelo no conjunto de teste usando métricas como o erro quadrático médio (MSE) e o coeficiente de determinação (R²) para medir a precisão das previsões."
      ],
      "metadata": {
        "id": "SnzBSLj1uNcY"
      }
    },
    {
      "cell_type": "code",
      "source": [
        "# Avaliar o modelo no conjunto de teste\n",
        "loss = model.evaluate(X_test, y_test)\n",
        "print(f'Erro Quadrático Médio no conjunto de teste: {loss}')\n"
      ],
      "metadata": {
        "colab": {
          "base_uri": "https://localhost:8080/"
        },
        "id": "BDaZ2jyvrqpW",
        "outputId": "59d0b669-0e43-4d8d-d525-8abc667de87b"
      },
      "execution_count": null,
      "outputs": [
        {
          "output_type": "stream",
          "name": "stdout",
          "text": [
            "\u001b[1m81/81\u001b[0m \u001b[32m━━━━━━━━━━━━━━━━━━━━\u001b[0m\u001b[37m\u001b[0m \u001b[1m0s\u001b[0m 1ms/step - loss: nan\n",
            "Erro Quadrático Médio no conjunto de teste: nan\n"
          ]
        }
      ]
    },
    {
      "cell_type": "markdown",
      "source": [
        "**Implementação:** Implementar o modelo em um sistema de previsão de preços de imóveis que possa ser usado por compradores, vendedores e investidores para tomar decisões informadas.\n"
      ],
      "metadata": {
        "id": "aNQedNl4uSH4"
      }
    },
    {
      "cell_type": "code",
      "source": [
        "# Fazer previsões com o modelo treinado\n",
        "predictions = model.predict(X_test)\n",
        "\n",
        "# Reset index of y_test to match predictions\n",
        "y_test = y_test.reset_index(drop=True)\n",
        "\n",
        "# Exibir algumas previsões\n",
        "for i in range(5):\n",
        "    predicted_price = float(predictions[i][0])  # Convert to float\n",
        "    print(f'Preço Real: {y_test.iloc[i]}, Preço Previsto: {predicted_price}')"
      ],
      "metadata": {
        "colab": {
          "base_uri": "https://localhost:8080/"
        },
        "id": "JnJ1z1jIntJo",
        "outputId": "a8f6cf18-1420-498a-f765-2e13c3b1fe6d"
      },
      "execution_count": null,
      "outputs": [
        {
          "output_type": "stream",
          "name": "stdout",
          "text": [
            "\u001b[1m81/81\u001b[0m \u001b[32m━━━━━━━━━━━━━━━━━━━━\u001b[0m\u001b[37m\u001b[0m \u001b[1m0s\u001b[0m 1ms/step\n",
            "Preço Real: 787484.34, Preço Previsto: nan\n",
            "Preço Real: 1347472.36, Preço Previsto: nan\n",
            "Preço Real: 398252.92, Preço Previsto: nan\n",
            "Preço Real: 389269.77, Preço Previsto: nan\n",
            "Preço Real: 989403.42, Preço Previsto: nan\n"
          ]
        }
      ]
    },
    {
      "cell_type": "markdown",
      "source": [
        "# Resultados Esperados\n",
        "- Precisão: Espera-se que o modelo forneça previsões de preços de imóveis com alta precisão, reduzindo o erro em comparação com métodos tradicionais.\n",
        "- Eficiência: O modelo deve ser capaz de processar grandes volumes de dados e fornecer previsões rápidas.\n",
        "- Escalabilidade: A solução deve ser escalável para diferentes mercados imobiliários e adaptável a mudanças nas tendências do mercado.\n",
        "# Desdobramentos\n",
        "- Expansão de Funcionalidades: Adicionar novas funcionalidades ao sistema, como a previsão de tendências de mercado e a análise de investimentos.\n",
        "- Integração com Outros Sistemas: Integrar o modelo com plataformas de listagem de imóveis e sistemas de gestão imobiliária para fornecer uma solução completa.\n",
        "- Melhoria Contínua: Continuar a coletar dados e re-treinar o modelo periodicamente para garantir que ele se mantenha preciso e relevante.\n"
      ],
      "metadata": {
        "id": "mnWur_wZuUlw"
      }
    }
  ]
}